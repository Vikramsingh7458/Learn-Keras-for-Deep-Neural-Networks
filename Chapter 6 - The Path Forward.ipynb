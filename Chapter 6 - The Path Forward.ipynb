{
 "cells": [
  {
   "cell_type": "markdown",
   "metadata": {},
   "source": [
    "# Learn Keras for Deep Neural Networks\n",
    "## Chapter 6 - The Path Foward"
   ]
  },
  {
   "cell_type": "markdown",
   "metadata": {},
   "source": [
    "Consolidating few reading links and additional references for the readers of the book to explore additional references and other advanced topics "
   ]
  },
  {
   "cell_type": "markdown",
   "metadata": {},
   "source": [
    "### Recommeded books for Machine Learning with Python\n",
    "\n",
    "* Mastering Machine Learning with Python in 6 steps - https://www.apress.com/us/book/9781484228654\n",
    "* Pactical Machine Learning with Python - https://www.apress.com/us/book/9781484232064\n"
   ]
  },
  {
   "cell_type": "markdown",
   "metadata": {},
   "source": [
    "### Recommeded books for Deep Learning with Python/Tensorflow\n",
    "* Applied Deep Learning -  https://www.apress.com/us/book/9781484237892\n",
    "* Pro Deep Learning with Tensorflow - https://www.apress.com/us/book/9781484230954\n",
    "\n"
   ]
  },
  {
   "attachments": {},
   "cell_type": "markdown",
   "metadata": {},
   "source": [
    "### Reading Links Convolutional Neural Networks (CNN)\n",
    "* https://adeshpande3.github.io/adeshpande3.github.io/A-Beginner's-Guide-To-Understanding-Convolutional-Neural-Networks/\n",
    "* https://medium.freecodecamp.org/an-intuitive-guide-to-convolutional-neural-networks-260c2de0a050\n"
   ]
  },
  {
   "attachments": {},
   "cell_type": "markdown",
   "metadata": {},
   "source": [
    "### Reading Links for Recurrent Neural Networks\n",
    "* https://colah.github.io/posts/2015-08-Understanding-LSTMs/\n",
    "* https://medium.com/mlreview/understanding-lstm-and-its-diagrams-37e2f46f1714\n",
    "* https://towardsdatascience.com/illustrated-guide-to-lstms-and-gru-s-a-step-by-step-explanation-44e9eb85bf21\n"
   ]
  },
  {
   "attachments": {},
   "cell_type": "markdown",
   "metadata": {},
   "source": [
    "### Reading Links for Image Captioning  (CNN + RNN)\n",
    "* https://towardsdatascience.com/image-captioning-in-deep-learning-9cd23fb4d8d2\n",
    "* https://machinelearningmastery.com/introduction-neural-machine-translation/\n",
    "* https://towardsdatascience.com/neural-machine-translation-with-python-c2f0a34f7dd\n"
   ]
  },
  {
   "attachments": {},
   "cell_type": "markdown",
   "metadata": {},
   "source": [
    "### Reading Links for Generative Adversarial Networks \n",
    "* https://medium.com/@awjuliani/generative-adversarial-networks-explained-with-a-classic-spongebob-squarepants-episode-54deab2fce39\n",
    "* https://medium.com/ai-society/gans-from-scratch-1-a-deep-introduction-with-code-in-pytorch-and-tensorflow-cb03cdcdba0f\n",
    "* https://towardsdatascience.com/understanding-generative-adversarial-networks-4dafc963f2ef"
   ]
  }
 ],
 "metadata": {
  "kernelspec": {
   "display_name": "Python 3",
   "language": "python",
   "name": "python3"
  },
  "language_info": {
   "codemirror_mode": {
    "name": "ipython",
    "version": 3
   },
   "file_extension": ".py",
   "mimetype": "text/x-python",
   "name": "python",
   "nbconvert_exporter": "python",
   "pygments_lexer": "ipython3",
   "version": "3.6.5"
  }
 },
 "nbformat": 4,
 "nbformat_minor": 2
}
